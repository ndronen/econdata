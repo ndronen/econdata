{
  "nbformat": 4,
  "nbformat_minor": 0,
  "metadata": {
    "colab": {
      "provenance": [],
      "authorship_tag": "ABX9TyN0+13qGEVoxiOtN66ktiKi",
      "include_colab_link": true
    },
    "kernelspec": {
      "name": "python3",
      "display_name": "Python 3"
    },
    "language_info": {
      "name": "python"
    }
  },
  "cells": [
    {
      "cell_type": "markdown",
      "metadata": {
        "id": "view-in-github",
        "colab_type": "text"
      },
      "source": [
        "<a href=\"https://colab.research.google.com/github/ndronen/econdata/blob/main/notebooks/Corruption_and_GDP_growth.ipynb\" target=\"_parent\"><img src=\"https://colab.research.google.com/assets/colab-badge.svg\" alt=\"Open In Colab\"/></a>"
      ]
    },
    {
      "cell_type": "code",
      "source": [
        "#@title Imports\n",
        "import pandas as pd\n",
        "import matplotlib.pyplot as plt\n",
        "from google.colab import drive"
      ],
      "metadata": {
        "id": "G-WoVVoNB7U4",
        "cellView": "form"
      },
      "execution_count": 1,
      "outputs": []
    },
    {
      "cell_type": "code",
      "source": [
        "#@title Mount Google Drive for saving plots\n",
        "DRIVE_PATH = \"/content/gdrive\"\n",
        "NOTEBOOK_PATH = f\"{DRIVE_PATH}/My Drive/Colab Notebooks\"\n",
        "drive.mount(DRIVE_PATH)"
      ],
      "metadata": {
        "colab": {
          "base_uri": "https://localhost:8080/"
        },
        "id": "QjZXDbS0twwJ",
        "outputId": "00687381-e669-469c-eb6f-df3ba59d7e7b",
        "cellView": "form"
      },
      "execution_count": 2,
      "outputs": [
        {
          "output_type": "stream",
          "name": "stdout",
          "text": [
            "Mounted at /content/gdrive\n"
          ]
        }
      ]
    },
    {
      "cell_type": "code",
      "source": [
        "#@title Set Pandas options\n",
        "pd.set_option(\"display.max_rows\", 200)\n",
        "pd.set_option(\"display.max_columns\", 200)\n",
        "pd.set_option('mode.chained_assignment', 'raise')"
      ],
      "metadata": {
        "id": "SOp5JDkTlbkU",
        "cellView": "form"
      },
      "execution_count": 3,
      "outputs": []
    },
    {
      "cell_type": "code",
      "source": [
        "#@title Data access functions\n",
        "GDP_COUNTRY_CODE = \"Country Code\"\n",
        "GDP_COUNTRY_NAME = \"Country Name\"\n",
        "CORRUPTION_COUNTRY_CODE = \"ISO3\"\n",
        "CORRUPTION_COUNTRY_NAME = \"Country / Territory\"\n",
        "CORRUPTION_INDEX = \"CPI score 2021\"\n",
        "\n",
        "\n",
        "def get_gdp_country_codes(gdp_df):\n",
        "    codes = gdp_df[GDP_COUNTRY_CODE]\n",
        "    return codes\n",
        "\n",
        "\n",
        "def get_corruption_country_codes(corruption_df):\n",
        "    codes = corruption_df[CORRUPTION_COUNTRY_CODE]\n",
        "    return codes\n",
        "\n",
        "\n",
        "def get_common_codes(gdp_codes, corruption_codes):\n",
        "    common_codes = set(gdp_codes).intersection(corruption_codes)\n",
        "    return common_codes\n",
        "\n",
        "\n",
        "def get_common_code_subset(common_codes, df, code_column_name):\n",
        "    mask = df[code_column_name].apply(lambda code: code in common_codes)\n",
        "    df = df[mask]\n",
        "    df = df.sort_values(code_column_name)\n",
        "    return df\n",
        "\n",
        "\n",
        "def join_dataframes(gdp_df, corruption_df):\n",
        "    gdp_df.reset_index(inplace=True)\n",
        "    corruption_df.reset_index(inplace=True)\n",
        "    joined_df = pd.concat((gdp_df, corruption_df), axis=1)\n",
        "    return joined_df\n",
        "\n",
        "\n",
        "def only_countries_with_gdp_in_year(df, year):\n",
        "    has_gdp = ~df[year].isnull()\n",
        "    return df[has_gdp]\n",
        "\n",
        "\n",
        "def get_bottom_countries_by_region(df, sort_column):\n",
        "    bottom = []\n",
        "    for region, grp in df.groupby(\"Region\"):\n",
        "        bottom.append(grp.sort_values(sort_column).head(1))\n",
        "    df = pd.concat(bottom)\n",
        "    return df\n",
        "\n",
        "\n",
        "def get_top_countries_by_region(df, sort_column):\n",
        "    bottom = []\n",
        "    for region, grp in df.groupby(\"Region\"):\n",
        "        bottom.append(grp.sort_values(sort_column).tail(1))\n",
        "    df = pd.concat(bottom)\n",
        "    return df"
      ],
      "metadata": {
        "id": "vSJGnH1JL7nh",
        "cellView": "form"
      },
      "execution_count": 4,
      "outputs": []
    },
    {
      "cell_type": "code",
      "source": [
        "#@title Plotting functions\n",
        "def plot_cpi_against_gdp_for_year(df, year, xmax=None):\n",
        "    df_year = only_countries_with_gdp_in_year(joined_df, year)\n",
        "    fig, ax = plt.subplots(1, figsize=(12, 4))\n",
        "    ax.scatter(df_year[year], df_year[CORRUPTION_INDEX])\n",
        "    ax.set_xlabel(f\"GDP in {year}\")\n",
        "    ax.set_ylabel(\"Corruption (CPI)\")\n",
        "    if xmax is not None:\n",
        "        ax.set_xlim((0, xmax))\n",
        "\n",
        "\n",
        "def plot_cpi_against_change_in_gdp_per_capita(\n",
        "    df, start_year, end_year, xmax=None, annotate_extremes=False\n",
        "):\n",
        "    def get_codes(year):\n",
        "        return only_countries_with_gdp_in_year(df, year)[GDP_COUNTRY_CODE]\n",
        "\n",
        "    start_year_codes = get_codes(start_year)\n",
        "    end_year_codes = get_codes(end_year)\n",
        "    common_codes = get_common_codes(start_year_codes, end_year_codes)\n",
        "\n",
        "    mask = df[GDP_COUNTRY_CODE].apply(lambda code: code in common_codes)\n",
        "    df_start_end = df[mask].copy()\n",
        "    change_in_gdp_per_capita = df_start_end[end_year] - df_start_end[start_year]\n",
        "    year_range_column = f\"{start_year}-{end_year}\"\n",
        "    df_start_end.loc[:, year_range_column] = change_in_gdp_per_capita\n",
        "\n",
        "    fig, ax = plt.subplots(1, figsize=(10, 6))\n",
        "    cmap = plt.get_cmap(\"tab20\")\n",
        "    markers = [\"+\", \"D\", \"o\", \"s\", \">\", \"X\"]\n",
        "    for i, (region, grp) in enumerate(df_start_end.groupby(\"Region\")):\n",
        "        ax.scatter(\n",
        "            grp[year_range_column],\n",
        "            grp[CORRUPTION_INDEX],\n",
        "            label=region,\n",
        "            color=cmap(i),\n",
        "            marker=markers[i]\n",
        "        )\n",
        "\n",
        "    if annotate_extremes:\n",
        "        def _annotate_extremes(df):\n",
        "            for code, grp in df.groupby(GDP_COUNTRY_CODE):\n",
        "                x = grp[year_range_column].values[0]\n",
        "                y = grp[CORRUPTION_INDEX].values[0]\n",
        "                ax.text(x + x*.01, y + y*.01, grp[GDP_COUNTRY_NAME].values[0])\n",
        "\n",
        "        # Label countries with greatest or least growth in GDP per capita.\n",
        "        df_top = get_top_countries_by_region(df_start_end, year_range_column)\n",
        "        _annotate_extremes(df_top)\n",
        "        df_least_corrupt = get_top_countries_by_region(df_start_end, CORRUPTION_INDEX)\n",
        "        _annotate_extremes(df_least_corrupt)\n",
        "            \n",
        "    ax.set_xlabel(f\"Change in GDP per capita from {start_year} to {end_year}\")\n",
        "    ax.set_ylabel(\"Corruption (CPI) in 2021\")\n",
        "    ax.legend(title=\"Region\", loc='lower right')\n",
        "\n",
        "    if xmax is not None:\n",
        "        ax.set_xlim((0, xmax))\n",
        "\n",
        "    fig.savefig(\n",
        "        f\"{NOTEBOOK_PATH}/change-in-gdp-per-capita-{start_year}-to-{end_year}.png\",\n",
        "        dpi=300\n",
        "    )\n",
        "\n",
        "    return df_start_end, year_range_column"
      ],
      "metadata": {
        "id": "F7DpBB9qR5GU"
      },
      "execution_count": 5,
      "outputs": []
    },
    {
      "cell_type": "code",
      "source": [
        "#@title Load data\n",
        "base_url = \"https://raw.githubusercontent.com/ndronen/econdata/5b3a94e4def5b21051eac7e5e65ed56ddf6397e4/data\"\n",
        "corruption_url = f\"{base_url}/corruption-perceptions-index-2021-transparency-org.csv\"\n",
        "gdp_url = f\"{base_url}/gdp-per-capita-of-countries-in-current-usd-world-bank.csv\"\n",
        "corruption_df = pd.read_csv(corruption_url)\n",
        "gdp_df = pd.read_csv(gdp_url)"
      ],
      "metadata": {
        "id": "Gr6Y9DAuLomi",
        "cellView": "form"
      },
      "execution_count": 6,
      "outputs": []
    },
    {
      "cell_type": "code",
      "source": [
        "#@title Preprocess and join the GDP and corruption data.\n",
        "gdp_country_codes = get_gdp_country_codes(gdp_df)\n",
        "corruption_country_codes = get_corruption_country_codes(corruption_df)\n",
        "common_codes = get_common_codes(gdp_country_codes, corruption_country_codes)\n",
        "clean_gdp_df = get_common_code_subset(common_codes, gdp_df, GDP_COUNTRY_CODE)\n",
        "clean_corruption_df = get_common_code_subset(common_codes, corruption_df, CORRUPTION_COUNTRY_CODE)\n",
        "joined_df = join_dataframes(clean_gdp_df, clean_corruption_df)"
      ],
      "metadata": {
        "id": "elR6dRUQNZuD",
        "cellView": "form"
      },
      "execution_count": 7,
      "outputs": []
    },
    {
      "cell_type": "markdown",
      "source": [
        "### Corruption perceptions index (CPI) versus GDP in 1975.\n"
      ],
      "metadata": {
        "id": "2G0W8SQYSgbr"
      }
    },
    {
      "cell_type": "code",
      "source": [
        "plot_cpi_against_gdp_for_year(joined_df, \"1975\", xmax=140000)"
      ],
      "metadata": {
        "colab": {
          "base_uri": "https://localhost:8080/",
          "height": 279
        },
        "id": "pgd8CR3TZe1J",
        "outputId": "8a08053e-f1ad-4bca-d300-e7f4ae0d5716"
      },
      "execution_count": 8,
      "outputs": [
        {
          "output_type": "display_data",
          "data": {
            "text/plain": [
              "<Figure size 864x288 with 1 Axes>"
            ],
            "image/png": "[encoded data removed]"
          },
          "metadata": {
            "needs_background": "light"
          }
        }
      ]
    },
    {
      "cell_type": "markdown",
      "source": [
        "### Corruption perceptions index (CPI) versus GDP in 2021."
      ],
      "metadata": {
        "id": "vJSoZsHAVLsT"
      }
    },
    {
      "cell_type": "code",
      "source": [
        "plot_cpi_against_gdp_for_year(joined_df, \"2021\", xmax=140000)"
      ],
      "metadata": {
        "colab": {
          "base_uri": "https://localhost:8080/",
          "height": 279
        },
        "id": "ZjeeAXBNQGJP",
        "outputId": "0f2d3b8f-cb29-4917-ad03-b58cb982ad74"
      },
      "execution_count": 9,
      "outputs": [
        {
          "output_type": "display_data",
          "data": {
            "text/plain": [
              "<Figure size 864x288 with 1 Axes>"
            ],
            "image/png": "[encoded data removed]"
          },
          "metadata": {
            "needs_background": "light"
          }
        }
      ]
    },
    {
      "cell_type": "markdown",
      "source": [
        "### Corruption perceptions index (CPI) versus change in GDP from 1975 to 2021. \n",
        "\n",
        "The CPI value is for the year 2021, so this is a backward-looking relationship. In this view of the data, we can't tell whether a country became less corrupt as its GDP grew. The relationship between the change in CPI and the change in GDP may be more informative."
      ],
      "metadata": {
        "id": "iTHNkbnaSrxP"
      }
    },
    {
      "cell_type": "code",
      "source": [
        "df_start_end, year_range_column = plot_cpi_against_change_in_gdp_per_capita(\n",
        "    joined_df, \"1975\", \"2021\", annotate_extremes=True\n",
        ")"
      ],
      "metadata": {
        "colab": {
          "base_uri": "https://localhost:8080/",
          "height": 388
        },
        "id": "lPxuSyMEhIX1",
        "outputId": "0f1e593b-46e2-42f3-a444-11ed60a98c38"
      },
      "execution_count": 10,
      "outputs": [
        {
          "output_type": "display_data",
          "data": {
            "text/plain": [
              "<Figure size 720x432 with 1 Axes>"
            ],
            "image/png": "[encoded data removed]"
          },
          "metadata": {
            "needs_background": "light"
          }
        }
      ]
    },
    {
      "cell_type": "markdown",
      "source": [
        "### Tables of the extreme points labeled in the above plot."
      ],
      "metadata": {
        "id": "L-UJYoWhT81t"
      }
    },
    {
      "cell_type": "code",
      "source": [
        "columns = [GDP_COUNTRY_NAME, GDP_COUNTRY_CODE, CORRUPTION_INDEX, year_range_column, \"Region\"]\n",
        "df_narrow = df_start_end[columns]"
      ],
      "metadata": {
        "id": "DzwZv5scVdGp"
      },
      "execution_count": 11,
      "outputs": []
    },
    {
      "cell_type": "code",
      "source": [
        "df_richest = get_top_countries_by_region(df_narrow, year_range_column)\n",
        "df_richest"
      ],
      "metadata": {
        "id": "lRkE-htofFNi",
        "outputId": "e8c6ff63-1d9a-4133-d6e3-e06f94097e98",
        "colab": {
          "base_uri": "https://localhost:8080/",
          "height": 237
        }
      },
      "execution_count": 12,
      "outputs": [
        {
          "output_type": "execute_result",
          "data": {
            "text/plain": [
              "      Country Name Country Code  CPI score 2021      1975-2021 Region\n",
              "168  United States          USA              67   61486.079924    AME\n",
              "140      Singapore          SGP              85   70304.091447     AP\n",
              "163        Turkiye          TUR              38    8446.922425    ECA\n",
              "133          Qatar          QAT              63   45983.424091   MENA\n",
              "153     Seychelles          SYC              70   12500.492956    SSA\n",
              "97      Luxembourg          LUX              81  126981.489543  WE/EU"
            ],
            "text/html": [
              "\n",
              "  <div id=\"df-223c7423-e955-4a61-a36d-1b52330e47f0\">\n",
              "    <div class=\"colab-df-container\">\n",
              "      <div>\n",
              "<style scoped>\n",
              "    .dataframe tbody tr th:only-of-type {\n",
              "        vertical-align: middle;\n",
              "    }\n",
              "\n",
              "    .dataframe tbody tr th {\n",
              "        vertical-align: top;\n",
              "    }\n",
              "\n",
              "    .dataframe thead th {\n",
              "        text-align: right;\n",
              "    }\n",
              "</style>\n",
              "<table border=\"1\" class=\"dataframe\">\n",
              "  <thead>\n",
              "    <tr style=\"text-align: right;\">\n",
              "      <th></th>\n",
              "      <th>Country Name</th>\n",
              "      <th>Country Code</th>\n",
              "      <th>CPI score 2021</th>\n",
              "      <th>1975-2021</th>\n",
              "      <th>Region</th>\n",
              "    </tr>\n",
              "  </thead>\n",
              "  <tbody>\n",
              "    <tr>\n",
              "      <th>168</th>\n",
              "      <td>United States</td>\n",
              "      <td>USA</td>\n",
              "      <td>67</td>\n",
              "      <td>61486.079924</td>\n",
              "      <td>AME</td>\n",
              "    </tr>\n",
              "    <tr>\n",
              "      <th>140</th>\n",
              "      <td>Singapore</td>\n",
              "      <td>SGP</td>\n",
              "      <td>85</td>\n",
              "      <td>70304.091447</td>\n",
              "      <td>AP</td>\n",
              "    </tr>\n",
              "    <tr>\n",
              "      <th>163</th>\n",
              "      <td>Turkiye</td>\n",
              "      <td>TUR</td>\n",
              "      <td>38</td>\n",
              "      <td>8446.922425</td>\n",
              "      <td>ECA</td>\n",
              "    </tr>\n",
              "    <tr>\n",
              "      <th>133</th>\n",
              "      <td>Qatar</td>\n",
              "      <td>QAT</td>\n",
              "      <td>63</td>\n",
              "      <td>45983.424091</td>\n",
              "      <td>MENA</td>\n",
              "    </tr>\n",
              "    <tr>\n",
              "      <th>153</th>\n",
              "      <td>Seychelles</td>\n",
              "      <td>SYC</td>\n",
              "      <td>70</td>\n",
              "      <td>12500.492956</td>\n",
              "      <td>SSA</td>\n",
              "    </tr>\n",
              "    <tr>\n",
              "      <th>97</th>\n",
              "      <td>Luxembourg</td>\n",
              "      <td>LUX</td>\n",
              "      <td>81</td>\n",
              "      <td>126981.489543</td>\n",
              "      <td>WE/EU</td>\n",
              "    </tr>\n",
              "  </tbody>\n",
              "</table>\n",
              "</div>\n",
              "      <button class=\"colab-df-convert\" onclick=\"convertToInteractive('df-223c7423-e955-4a61-a36d-1b52330e47f0')\"\n",
              "              title=\"Convert this dataframe to an interactive table.\"\n",
              "              style=\"display:none;\">\n",
              "        \n",
              "  <svg xmlns=\"http://www.w3.org/2000/svg\" height=\"24px\"viewBox=\"0 0 24 24\"\n",
              "       width=\"24px\">\n",
              "    <path d=\"M0 0h24v24H0V0z\" fill=\"none\"/>\n",
              "    <path d=\"M18.56 5.44l.94 2.06.94-2.06 2.06-.94-2.06-.94-.94-2.06-.94 2.06-2.06.94zm-11 1L8.5 8.5l.94-2.06 2.06-.94-2.06-.94L8.5 2.5l-.94 2.06-2.06.94zm10 10l.94 2.06.94-2.06 2.06-.94-2.06-.94-.94-2.06-.94 2.06-2.06.94z\"/><path d=\"M17.41 7.96l-1.37-1.37c-.4-.4-.92-.59-1.43-.59-.52 0-1.04.2-1.43.59L10.3 9.45l-7.72 7.72c-.78.78-.78 2.05 0 2.83L4 21.41c.39.39.9.59 1.41.59.51 0 1.02-.2 1.41-.59l7.78-7.78 2.81-2.81c.8-.78.8-2.07 0-2.86zM5.41 20L4 18.59l7.72-7.72 1.47 1.35L5.41 20z\"/>\n",
              "  </svg>\n",
              "      </button>\n",
              "      \n",
              "  <style>\n",
              "    .colab-df-container {\n",
              "      display:flex;\n",
              "      flex-wrap:wrap;\n",
              "      gap: 12px;\n",
              "    }\n",
              "\n",
              "    .colab-df-convert {\n",
              "      background-color: #E8F0FE;\n",
              "      border: none;\n",
              "      border-radius: 50%;\n",
              "      cursor: pointer;\n",
              "      display: none;\n",
              "      fill: #1967D2;\n",
              "      height: 32px;\n",
              "      padding: 0 0 0 0;\n",
              "      width: 32px;\n",
              "    }\n",
              "\n",
              "    .colab-df-convert:hover {\n",
              "      background-color: #E2EBFA;\n",
              "      box-shadow: 0px 1px 2px rgba(60, 64, 67, 0.3), 0px 1px 3px 1px rgba(60, 64, 67, 0.15);\n",
              "      fill: #174EA6;\n",
              "    }\n",
              "\n",
              "    [theme=dark] .colab-df-convert {\n",
              "      background-color: #3B4455;\n",
              "      fill: #D2E3FC;\n",
              "    }\n",
              "\n",
              "    [theme=dark] .colab-df-convert:hover {\n",
              "      background-color: #434B5C;\n",
              "      box-shadow: 0px 1px 3px 1px rgba(0, 0, 0, 0.15);\n",
              "      filter: drop-shadow(0px 1px 2px rgba(0, 0, 0, 0.3));\n",
              "      fill: #FFFFFF;\n",
              "    }\n",
              "  </style>\n",
              "\n",
              "      <script>\n",
              "        const buttonEl =\n",
              "          document.querySelector('#df-223c7423-e955-4a61-a36d-1b52330e47f0 button.colab-df-convert');\n",
              "        buttonEl.style.display =\n",
              "          google.colab.kernel.accessAllowed ? 'block' : 'none';\n",
              "\n",
              "        async function convertToInteractive(key) {\n",
              "          const element = document.querySelector('#df-223c7423-e955-4a61-a36d-1b52330e47f0');\n",
              "          const dataTable =\n",
              "            await google.colab.kernel.invokeFunction('convertToInteractive',\n",
              "                                                     [key], {});\n",
              "          if (!dataTable) return;\n",
              "\n",
              "          const docLinkHtml = 'Like what you see? Visit the ' +\n",
              "            '<a target=\"_blank\" href=https://colab.research.google.com/notebooks/data_table.ipynb>data table notebook</a>'\n",
              "            + ' to learn more about interactive tables.';\n",
              "          element.innerHTML = '';\n",
              "          dataTable['output_type'] = 'display_data';\n",
              "          await google.colab.output.renderOutput(dataTable, element);\n",
              "          const docLink = document.createElement('div');\n",
              "          docLink.innerHTML = docLinkHtml;\n",
              "          element.appendChild(docLink);\n",
              "        }\n",
              "      </script>\n",
              "    </div>\n",
              "  </div>\n",
              "  "
            ]
          },
          "metadata": {},
          "execution_count": 12
        }
      ]
    },
    {
      "cell_type": "code",
      "source": [
        "df_least_corrupt = get_top_countries_by_region(df_narrow, CORRUPTION_INDEX)\n",
        "df_least_corrupt"
      ],
      "metadata": {
        "id": "LAjSReyQfGE1",
        "outputId": "71f381be-0f34-4e70-cca7-2f8af01f064e",
        "colab": {
          "base_uri": "https://localhost:8080/",
          "height": 237
        }
      },
      "execution_count": 13,
      "outputs": [
        {
          "output_type": "execute_result",
          "data": {
            "text/plain": [
              "    Country Name Country Code  CPI score 2021     1975-2021 Region\n",
              "25        Canada          CAN              74  44540.140122    AME\n",
              "122  New Zealand          NZL              88  44629.915388     AP\n",
              "163      Turkiye          TUR              38   8446.922425    ECA\n",
              "133        Qatar          QAT              63  45983.424091   MENA\n",
              "153   Seychelles          SYC              70  12500.492956    SSA\n",
              "43       Denmark          DNK              88  59803.934438  WE/EU"
            ],
            "text/html": [
              "\n",
              "  <div id=\"df-8002e1e2-0333-4630-9ea1-35ed427d21ea\">\n",
              "    <div class=\"colab-df-container\">\n",
              "      <div>\n",
              "<style scoped>\n",
              "    .dataframe tbody tr th:only-of-type {\n",
              "        vertical-align: middle;\n",
              "    }\n",
              "\n",
              "    .dataframe tbody tr th {\n",
              "        vertical-align: top;\n",
              "    }\n",
              "\n",
              "    .dataframe thead th {\n",
              "        text-align: right;\n",
              "    }\n",
              "</style>\n",
              "<table border=\"1\" class=\"dataframe\">\n",
              "  <thead>\n",
              "    <tr style=\"text-align: right;\">\n",
              "      <th></th>\n",
              "      <th>Country Name</th>\n",
              "      <th>Country Code</th>\n",
              "      <th>CPI score 2021</th>\n",
              "      <th>1975-2021</th>\n",
              "      <th>Region</th>\n",
              "    </tr>\n",
              "  </thead>\n",
              "  <tbody>\n",
              "    <tr>\n",
              "      <th>25</th>\n",
              "      <td>Canada</td>\n",
              "      <td>CAN</td>\n",
              "      <td>74</td>\n",
              "      <td>44540.140122</td>\n",
              "      <td>AME</td>\n",
              "    </tr>\n",
              "    <tr>\n",
              "      <th>122</th>\n",
              "      <td>New Zealand</td>\n",
              "      <td>NZL</td>\n",
              "      <td>88</td>\n",
              "      <td>44629.915388</td>\n",
              "      <td>AP</td>\n",
              "    </tr>\n",
              "    <tr>\n",
              "      <th>163</th>\n",
              "      <td>Turkiye</td>\n",
              "      <td>TUR</td>\n",
              "      <td>38</td>\n",
              "      <td>8446.922425</td>\n",
              "      <td>ECA</td>\n",
              "    </tr>\n",
              "    <tr>\n",
              "      <th>133</th>\n",
              "      <td>Qatar</td>\n",
              "      <td>QAT</td>\n",
              "      <td>63</td>\n",
              "      <td>45983.424091</td>\n",
              "      <td>MENA</td>\n",
              "    </tr>\n",
              "    <tr>\n",
              "      <th>153</th>\n",
              "      <td>Seychelles</td>\n",
              "      <td>SYC</td>\n",
              "      <td>70</td>\n",
              "      <td>12500.492956</td>\n",
              "      <td>SSA</td>\n",
              "    </tr>\n",
              "    <tr>\n",
              "      <th>43</th>\n",
              "      <td>Denmark</td>\n",
              "      <td>DNK</td>\n",
              "      <td>88</td>\n",
              "      <td>59803.934438</td>\n",
              "      <td>WE/EU</td>\n",
              "    </tr>\n",
              "  </tbody>\n",
              "</table>\n",
              "</div>\n",
              "      <button class=\"colab-df-convert\" onclick=\"convertToInteractive('df-8002e1e2-0333-4630-9ea1-35ed427d21ea')\"\n",
              "              title=\"Convert this dataframe to an interactive table.\"\n",
              "              style=\"display:none;\">\n",
              "        \n",
              "  <svg xmlns=\"http://www.w3.org/2000/svg\" height=\"24px\"viewBox=\"0 0 24 24\"\n",
              "       width=\"24px\">\n",
              "    <path d=\"M0 0h24v24H0V0z\" fill=\"none\"/>\n",
              "    <path d=\"M18.56 5.44l.94 2.06.94-2.06 2.06-.94-2.06-.94-.94-2.06-.94 2.06-2.06.94zm-11 1L8.5 8.5l.94-2.06 2.06-.94-2.06-.94L8.5 2.5l-.94 2.06-2.06.94zm10 10l.94 2.06.94-2.06 2.06-.94-2.06-.94-.94-2.06-.94 2.06-2.06.94z\"/><path d=\"M17.41 7.96l-1.37-1.37c-.4-.4-.92-.59-1.43-.59-.52 0-1.04.2-1.43.59L10.3 9.45l-7.72 7.72c-.78.78-.78 2.05 0 2.83L4 21.41c.39.39.9.59 1.41.59.51 0 1.02-.2 1.41-.59l7.78-7.78 2.81-2.81c.8-.78.8-2.07 0-2.86zM5.41 20L4 18.59l7.72-7.72 1.47 1.35L5.41 20z\"/>\n",
              "  </svg>\n",
              "      </button>\n",
              "      \n",
              "  <style>\n",
              "    .colab-df-container {\n",
              "      display:flex;\n",
              "      flex-wrap:wrap;\n",
              "      gap: 12px;\n",
              "    }\n",
              "\n",
              "    .colab-df-convert {\n",
              "      background-color: #E8F0FE;\n",
              "      border: none;\n",
              "      border-radius: 50%;\n",
              "      cursor: pointer;\n",
              "      display: none;\n",
              "      fill: #1967D2;\n",
              "      height: 32px;\n",
              "      padding: 0 0 0 0;\n",
              "      width: 32px;\n",
              "    }\n",
              "\n",
              "    .colab-df-convert:hover {\n",
              "      background-color: #E2EBFA;\n",
              "      box-shadow: 0px 1px 2px rgba(60, 64, 67, 0.3), 0px 1px 3px 1px rgba(60, 64, 67, 0.15);\n",
              "      fill: #174EA6;\n",
              "    }\n",
              "\n",
              "    [theme=dark] .colab-df-convert {\n",
              "      background-color: #3B4455;\n",
              "      fill: #D2E3FC;\n",
              "    }\n",
              "\n",
              "    [theme=dark] .colab-df-convert:hover {\n",
              "      background-color: #434B5C;\n",
              "      box-shadow: 0px 1px 3px 1px rgba(0, 0, 0, 0.15);\n",
              "      filter: drop-shadow(0px 1px 2px rgba(0, 0, 0, 0.3));\n",
              "      fill: #FFFFFF;\n",
              "    }\n",
              "  </style>\n",
              "\n",
              "      <script>\n",
              "        const buttonEl =\n",
              "          document.querySelector('#df-8002e1e2-0333-4630-9ea1-35ed427d21ea button.colab-df-convert');\n",
              "        buttonEl.style.display =\n",
              "          google.colab.kernel.accessAllowed ? 'block' : 'none';\n",
              "\n",
              "        async function convertToInteractive(key) {\n",
              "          const element = document.querySelector('#df-8002e1e2-0333-4630-9ea1-35ed427d21ea');\n",
              "          const dataTable =\n",
              "            await google.colab.kernel.invokeFunction('convertToInteractive',\n",
              "                                                     [key], {});\n",
              "          if (!dataTable) return;\n",
              "\n",
              "          const docLinkHtml = 'Like what you see? Visit the ' +\n",
              "            '<a target=\"_blank\" href=https://colab.research.google.com/notebooks/data_table.ipynb>data table notebook</a>'\n",
              "            + ' to learn more about interactive tables.';\n",
              "          element.innerHTML = '';\n",
              "          dataTable['output_type'] = 'display_data';\n",
              "          await google.colab.output.renderOutput(dataTable, element);\n",
              "          const docLink = document.createElement('div');\n",
              "          docLink.innerHTML = docLinkHtml;\n",
              "          element.appendChild(docLink);\n",
              "        }\n",
              "      </script>\n",
              "    </div>\n",
              "  </div>\n",
              "  "
            ]
          },
          "metadata": {},
          "execution_count": 13
        }
      ]
    },
    {
      "cell_type": "markdown",
      "source": [
        "### Asia-Pacific"
      ],
      "metadata": {
        "id": "opLf0skzqisz"
      }
    },
    {
      "cell_type": "code",
      "source": [
        "df_start_end, year_range_column = plot_cpi_against_change_in_gdp_per_capita(\n",
        "    joined_df[joined_df.Region == \"AP\"],\n",
        "    \"1975\",\n",
        "    \"2021\",\n",
        "    annotate_extremes=True\n",
        ")"
      ],
      "metadata": {
        "id": "Mb1GMrFbpV1N",
        "outputId": "dee4b3fe-6227-40ae-b8fb-350b3c70f986",
        "colab": {
          "base_uri": "https://localhost:8080/",
          "height": 388
        }
      },
      "execution_count": 16,
      "outputs": [
        {
          "output_type": "display_data",
          "data": {
            "text/plain": [
              "<Figure size 720x432 with 1 Axes>"
            ],
            "image/png": "[encoded data removed]"
          },
          "metadata": {
            "needs_background": "light"
          }
        }
      ]
    },
    {
      "cell_type": "markdown",
      "source": [
        "### Sub-Saharan Africa"
      ],
      "metadata": {
        "id": "C_9sajJ9qvi-"
      }
    },
    {
      "cell_type": "code",
      "source": [
        "#@title Code\n",
        "df_start_end, year_range_column = plot_cpi_against_change_in_gdp_per_capita(\n",
        "    joined_df[joined_df.Region == \"SSA\"],\n",
        "    \"1975\",\n",
        "    \"2021\",\n",
        "    annotate_extremes=True\n",
        ")"
      ],
      "metadata": {
        "cellView": "form",
        "id": "FnR-a917qlow",
        "outputId": "80054bad-253d-463a-82c1-d9f11e091a06",
        "colab": {
          "base_uri": "https://localhost:8080/",
          "height": 388
        }
      },
      "execution_count": 20,
      "outputs": [
        {
          "output_type": "display_data",
          "data": {
            "text/plain": [
              "<Figure size 720x432 with 1 Axes>"
            ],
            "image/png": "[encoded data removed]"
          },
          "metadata": {
            "needs_background": "light"
          }
        }
      ]
    },
    {
      "cell_type": "markdown",
      "source": [
        "Eastern and Central Asia"
      ],
      "metadata": {
        "id": "l5lOgA7Rq8xz"
      }
    },
    {
      "cell_type": "code",
      "source": [
        "#@title Code\n",
        "df_start_end, year_range_column = plot_cpi_against_change_in_gdp_per_capita(\n",
        "    joined_df[joined_df.Region == \"ECA\"],\n",
        "    \"1975\",\n",
        "    \"2021\",\n",
        "    annotate_extremes=True\n",
        ")"
      ],
      "metadata": {
        "cellView": "form",
        "id": "JgiDA8lDrBjV",
        "outputId": "569b8f88-2fd5-4ee2-ebbc-b2a40ef01558",
        "colab": {
          "base_uri": "https://localhost:8080/",
          "height": 388
        }
      },
      "execution_count": 26,
      "outputs": [
        {
          "output_type": "display_data",
          "data": {
            "text/plain": [
              "<Figure size 720x432 with 1 Axes>"
            ],
            "image/png": "[encoded data removed]"
          },
          "metadata": {
            "needs_background": "light"
          }
        }
      ]
    },
    {
      "cell_type": "markdown",
      "source": [
        "### Middle East and North Africa"
      ],
      "metadata": {
        "id": "3EVIExcmrHFh"
      }
    },
    {
      "cell_type": "code",
      "source": [
        "#@title Code\n",
        "df_start_end, year_range_column = plot_cpi_against_change_in_gdp_per_capita(\n",
        "    joined_df[joined_df.Region == \"MENA\"],\n",
        "    \"1975\",\n",
        "    \"2021\",\n",
        "    annotate_extremes=True\n",
        ")"
      ],
      "metadata": {
        "cellView": "form",
        "id": "OgN3PTi_rKf0",
        "outputId": "42492ff0-0e0e-479d-feaa-347abe84f4c8",
        "colab": {
          "base_uri": "https://localhost:8080/",
          "height": 392
        }
      },
      "execution_count": 22,
      "outputs": [
        {
          "output_type": "display_data",
          "data": {
            "text/plain": [
              "<Figure size 720x432 with 1 Axes>"
            ],
            "image/png": "[encoded data removed]"
          },
          "metadata": {
            "needs_background": "light"
          }
        }
      ]
    },
    {
      "cell_type": "markdown",
      "source": [
        "### Americas"
      ],
      "metadata": {
        "id": "Uf3X2CuCrQuD"
      }
    },
    {
      "cell_type": "code",
      "source": [
        "#@title Code\n",
        "df_start_end, year_range_column = plot_cpi_against_change_in_gdp_per_capita(\n",
        "    joined_df[joined_df.Region == \"AME\"],\n",
        "    \"1975\",\n",
        "    \"2021\",\n",
        "    annotate_extremes=True\n",
        ")"
      ],
      "metadata": {
        "cellView": "form",
        "id": "bUYY_LeLrSFC",
        "outputId": "0a693f42-3d19-45bc-982d-8f0ab39e7efa",
        "colab": {
          "base_uri": "https://localhost:8080/",
          "height": 388
        }
      },
      "execution_count": 23,
      "outputs": [
        {
          "output_type": "display_data",
          "data": {
            "text/plain": [
              "<Figure size 720x432 with 1 Axes>"
            ],
            "image/png": "[encoded data removed]"
          },
          "metadata": {
            "needs_background": "light"
          }
        }
      ]
    },
    {
      "cell_type": "markdown",
      "source": [
        "### Western Europe and European Union"
      ],
      "metadata": {
        "id": "u6XkY87erWwH"
      }
    },
    {
      "cell_type": "code",
      "source": [
        "#@title Code\n",
        "df_start_end, year_range_column = plot_cpi_against_change_in_gdp_per_capita(\n",
        "    joined_df[joined_df.Region == \"WE/EU\"],\n",
        "    \"1975\",\n",
        "    \"2021\",\n",
        "    annotate_extremes=True\n",
        ")"
      ],
      "metadata": {
        "cellView": "form",
        "id": "Ij4dp5WDrccM",
        "outputId": "546aa75f-103e-4513-cc3c-d630dd57e85b",
        "colab": {
          "base_uri": "https://localhost:8080/",
          "height": 388
        }
      },
      "execution_count": 25,
      "outputs": [
        {
          "output_type": "display_data",
          "data": {
            "text/plain": [
              "<Figure size 720x432 with 1 Axes>"
            ],
            "image/png": "[encoded data removed]"
          },
          "metadata": {
            "needs_background": "light"
          }
        }
      ]
    }
  ]
}