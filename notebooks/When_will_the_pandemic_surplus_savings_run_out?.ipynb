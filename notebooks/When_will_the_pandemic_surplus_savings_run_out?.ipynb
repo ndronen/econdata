{
  "nbformat": 4,
  "nbformat_minor": 0,
  "metadata": {
    "colab": {
      "provenance": [],
      "authorship_tag": "ABX9TyPLtows9dvD9AB7gOnz54At",
      "include_colab_link": true
    },
    "kernelspec": {
      "name": "python3",
      "display_name": "Python 3"
    },
    "language_info": {
      "name": "python"
    }
  },
  "cells": [
    {
      "cell_type": "markdown",
      "metadata": {
        "id": "view-in-github",
        "colab_type": "text"
      },
      "source": [
        "<a href=\"https://colab.research.google.com/github/ndronen/econdata/blob/main/notebooks/When_will_the_pandemic_surplus_savings_run_out%3F.ipynb\" target=\"_parent\"><img src=\"https://colab.research.google.com/assets/colab-badge.svg\" alt=\"Open In Colab\"/></a>"
      ]
    },
    {
      "cell_type": "markdown",
      "source": [
        "Shortly after the COVID-19 pandemic struck in early 2020, governments around the world injected trillions of dollars of fiscal support into their economies, leading to a surplus in savings. Since then, central banks have raised rates to constrain the inflation that occurred when economies re-opened and consumers started spending more freely. The size of the remaining savings that accrued during the pandemic is an interesting question and can speak to how strong consumption can be for how much longer. \n",
        "\n",
        "If my analysis is correct, it has implications for central bank tightening, labor markets, and financial conditions in 2023 and 2024. Take my analysis with a grain of salt, as I am not a trained economist. I only do this as a hobby.\n",
        "\n",
        "I use the [Net private saving (W202RC1Q027SBEA)](https://fred.stlouisfed.org/series/W202RC1Q027SBEA#0) series from FRED. I estimate the total excess net private savings during the pandemic as the sum of net private savings above the historical mean (with that mean computed from 2014 until today, plus a fudge factor to make plotting nice). Since the end of the pandemic, there has been a notable deficit in net private savings below this historical mean. We assume that the consumer is gradually depleting the excess savings accrued during the pandemic and that net private savings will revert to that historical mean once consumers have depleted the excess savings.\n",
        "\n",
        "To estimate how long it will take to deplete these excess savings, I naively amortize the remaining surplus at the same rate as the most recent data in the series (2022-10-01), and arrive at an estimated 8.6 months remaining. Projecting this out from the end of the series, under my assumptions, the US consumer will continue to spend lavishly well into 2024."
      ],
      "metadata": {
        "id": "5ZI1WwJEYfcP"
      }
    },
    {
      "cell_type": "code",
      "execution_count": 1,
      "metadata": {
        "id": "Ajh8zjsbudxn",
        "cellView": "form"
      },
      "outputs": [],
      "source": [
        "#@title Imports\n",
        "import os\n",
        "import re\n",
        "from textwrap import wrap\n",
        "\n",
        "import numpy as np\n",
        "import pandas as pd\n",
        "import matplotlib.pyplot as plt"
      ]
    },
    {
      "cell_type": "code",
      "source": [
        "#@title Load data\n",
        "NET_PRIVATE_SAVINGS_URL = os.path.join(\n",
        "    \"https://raw.githubusercontent.com/ndronen/econdata\",\n",
        "    \"d4a66ce1a07fd4c32207491da7ec085ca2d4bd77\",\n",
        "    \"data\",\n",
        "    \"net-private-savings-1995-2022.csv\"\n",
        ")\n",
        "df = pd.read_csv(NET_PRIVATE_SAVINGS_URL)"
      ],
      "metadata": {
        "id": "mFww-hl4uqfv",
        "cellView": "form"
      },
      "execution_count": 2,
      "outputs": []
    },
    {
      "cell_type": "code",
      "source": [
        "#@title Preprocess data\n",
        "\n",
        "# Focus on years after GFC.\n",
        "df_recent = df[df.DATE > '2014-01-01']\n",
        "\n",
        "# Conservatively estimate net private savings over this period.\n",
        "mean_net_private_savings = 1.05 * df_recent.W202RC1Q027SBEA.mean()\n",
        "\n",
        "# Separate pandemic and post-pandemic periods.\n",
        "df_pandemic = df[(df.DATE >= '2020-01-01') & (df.DATE <= '2021-10-01')]\n",
        "df_post_pandemic = df[df.DATE >= df_pandemic.DATE.values[-1]]\n",
        "\n",
        "# Compute absolute differeces from mean over these periods (L1 norm).\n",
        "pandemic_deviance = (df_pandemic.W202RC1Q027SBEA - mean_net_private_savings).abs()\n",
        "post_pandemic_deviance = (df_post_pandemic.W202RC1Q027SBEA - mean_net_private_savings).abs()\n",
        "\n",
        "surplus = pandemic_deviance.sum()\n",
        "deficit = post_pandemic_deviance.sum()\n",
        "\n",
        "# Assume that net private savings is computed by period and so differences accumulate.\n",
        "remaining_surplus = surplus - deficit\n",
        "\n",
        "# Assume no trend from most recent measurement, so deficit is horizontal from most recent deficit.\n",
        "post_pandemic_trend = post_pandemic_deviance.values[-1]\n",
        "\n",
        "# How many quarters remain until we exhaust the remaining surplus?\n",
        "remaining_quarters = remaining_surplus / post_pandemic_trend\n",
        "print(f\"The remaining surplus savings will last approximately {remaining_quarters:0.1f} more quarters from the end of the series.\")"
      ],
      "metadata": {
        "id": "zRIuQeaPwB5Q",
        "colab": {
          "base_uri": "https://localhost:8080/"
        },
        "cellView": "form",
        "outputId": "96992fbb-a9f6-495d-adcd-dfa92739f146"
      },
      "execution_count": 3,
      "outputs": [
        {
          "output_type": "stream",
          "name": "stdout",
          "text": [
            "The remaining surplus savings will last approximately 8.6 more quarters from the end of the series.\n"
          ]
        }
      ]
    },
    {
      "cell_type": "code",
      "source": [
        "#@title Project below-mean deficit spending out for as long as pandemic surplus remains.\n",
        "\n",
        "projected_data = [\n",
        "    (\"2022-10-01\", mean_net_private_savings - post_pandemic_trend),\n",
        "    (\"2023-01-01\", mean_net_private_savings - post_pandemic_trend),\n",
        "    (\"2023-04-01\", mean_net_private_savings - post_pandemic_trend),\n",
        "    (\"2023-07-01\", mean_net_private_savings - post_pandemic_trend),\n",
        "    (\"2023-10-01\", mean_net_private_savings - post_pandemic_trend),\n",
        "    (\"2024-01-01\", mean_net_private_savings - post_pandemic_trend),\n",
        "    (\"2024-04-01\", mean_net_private_savings - post_pandemic_trend),\n",
        "    (\"2024-07-01\", mean_net_private_savings - post_pandemic_trend),\n",
        "    # Last quarter of deficit spending is what little remains after 8 quarters.\n",
        "    (\"2024-10-01\", mean_net_private_savings - (remaining_surplus % post_pandemic_trend)),\n",
        "    # After that, we mean revert.\n",
        "    (\"2025-11-01\", mean_net_private_savings)\n",
        "]\n",
        "df_projected = pd.DataFrame(data=projected_data, columns=df.columns)\n",
        "df_new = pd.concat((df_recent, df_projected))"
      ],
      "metadata": {
        "cellView": "form",
        "id": "AYFsuXNOHqe-"
      },
      "execution_count": 4,
      "outputs": []
    },
    {
      "cell_type": "code",
      "source": [
        "#@title Plot the surplus, deficit, and sustainable projected deficit.\n",
        "\n",
        "plt.style.use('dark_background')\n",
        "\n",
        "# Plot quarterly savings since GFC.\n",
        "\n",
        "def plot_pandemic_savings(df, mean_net_private_savings):\n",
        "    fig, ax = plt.subplots(1)\n",
        "    ax.plot(df.DATE, df.W202RC1Q027SBEA)\n",
        "    ax.axhline(mean_net_private_savings)\n",
        "    ax.set_ylabel(\"Net private savings (Billions USD)\")\n",
        "    return fig, ax\n",
        "\n",
        "fig, ax = plot_pandemic_savings(df_new, mean_net_private_savings)\n",
        "\n",
        "alpha = 0.8\n",
        "\n",
        "# Fill the savings surplus that occurred during the pandemic.\n",
        "ax.fill_between(\n",
        "    x=df_pandemic.DATE,\n",
        "    y1=df_pandemic.W202RC1Q027SBEA, \n",
        "    y2=mean_net_private_savings,\n",
        "    color=\"blue\",\n",
        "    alpha=alpha,\n",
        "    interpolate=True\n",
        ")\n",
        "\n",
        "# Fill the savings deficit that occurred after the pandemic.\n",
        "ax.fill_between(\n",
        "    x=df_post_pandemic.DATE,\n",
        "    y1=mean_net_private_savings,\n",
        "    y2=df_post_pandemic.W202RC1Q027SBEA,\n",
        "    color=\"yellow\",\n",
        "    alpha=alpha\n",
        ")\n",
        "\n",
        "# Prepend the previous row to eliminate gaps in the filled area.\n",
        "df_projected_fill = pd.concat(\n",
        "    (df_post_pandemic.tail(1), df_projected)\n",
        ")\n",
        "# Fill the projected deficit spending until the surplus is exhausted.\n",
        "ax.fill_between(\n",
        "    x=df_projected_fill.DATE,\n",
        "    y1=mean_net_private_savings,\n",
        "    y2=df_projected_fill.W202RC1Q027SBEA,\n",
        "    color=\"red\",\n",
        "    alpha=alpha\n",
        ")\n",
        "\n",
        "xticks = []\n",
        "xtick_labels = []\n",
        "for i, date in enumerate(df_new.DATE):\n",
        "    if date.endswith(\"01-01\"):\n",
        "        xticks.append(i)\n",
        "        xtick_labels.append(date)\n",
        "ax.set_xticks(xticks)\n",
        "ax.set_xticklabels(xtick_labels)\n",
        "\n",
        "fig.suptitle(f\"Is remaining excess savings enough to keep the US consumer buying strong through 2023?\")\n",
        "fig.autofmt_xdate(rotation=45)\n",
        "fig.tight_layout(pad=2)"
      ],
      "metadata": {
        "colab": {
          "base_uri": "https://localhost:8080/",
          "height": 293
        },
        "cellView": "form",
        "id": "baLcMgIfCPLN",
        "outputId": "19e1a3b1-1143-4b75-cd85-75965698615f"
      },
      "execution_count": 5,
      "outputs": [
        {
          "output_type": "display_data",
          "data": {
            "text/plain": [
              "<Figure size 432x288 with 1 Axes>"
            ],
            "image/png": "[encoded data removed]"
          },
          "metadata": {}
        }
      ]
    }
  ]
}